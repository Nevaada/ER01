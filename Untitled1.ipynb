{
 "cells": [
  {
   "cell_type": "code",
   "execution_count": 3,
   "metadata": {
    "collapsed": false
   },
   "outputs": [
    {
     "data": {
      "text/plain": [
       "\n",
       "Call:\n",
       "lm(formula = ping_time ~ packet_size, data = df)\n",
       "\n",
       "Residuals:\n",
       "    Min      1Q  Median      3Q     Max \n",
       "-0.6943 -0.3206 -0.0100  0.2466 25.1635 \n",
       "\n",
       "Coefficients:\n",
       "             Estimate Std. Error t value Pr(>|t|)    \n",
       "(Intercept) 7.354e+00  1.931e-02 380.732  < 2e-16 ***\n",
       "packet_size 8.172e-05  2.344e-05   3.487 0.000493 ***\n",
       "---\n",
       "Signif. codes:  0 ‘***’ 0.001 ‘**’ 0.01 ‘*’ 0.05 ‘.’ 0.1 ‘ ’ 1\n",
       "\n",
       "Residual standard error: 0.6481 on 4998 degrees of freedom\n",
       "Multiple R-squared:  0.002427,\tAdjusted R-squared:  0.002227 \n",
       "F-statistic: 12.16 on 1 and 4998 DF,  p-value: 0.0004929\n"
      ]
     },
     "metadata": {},
     "output_type": "display_data"
    },
    {
     "ename": "ERROR",
     "evalue": "Error in grDevices::replayPlot(obj): impossible de charger la police X11 -adobe-helvetica-%s-%s-*-*-%d-*-*-*-*-*-*-*, de face 2 et de taille 14\n",
     "output_type": "error",
     "traceback": [
      "Error in grDevices::replayPlot(obj): impossible de charger la police X11 -adobe-helvetica-%s-%s-*-*-%d-*-*-*-*-*-*-*, de face 2 et de taille 14\nTraceback:\n"
     ]
    },
    {
     "data": {
      "text/plain": [
       "Plot with title “Comparison”"
      ]
     },
     "metadata": {},
     "output_type": "display_data"
    }
   ],
   "source": [
    "df = read.csv(\"data.csv\",header=F,col.names = c(\"packet_size\",\"ping_time\"))\n",
    "plot(ping_time~packet_size,data=df,main=\"Comparison\")\n",
    "coeff_lm = lm(ping_time~packet_size,data=df)\n",
    "abline(coeff_lm,col=\"red\")\n",
    "summary(coeff_lm)"
   ]
  },
  {
   "cell_type": "code",
   "execution_count": null,
   "metadata": {
    "collapsed": true
   },
   "outputs": [],
   "source": []
  }
 ],
 "metadata": {
  "kernelspec": {
   "display_name": "R",
   "language": "R",
   "name": "ir"
  },
  "language_info": {
   "codemirror_mode": "r",
   "file_extension": ".r",
   "mimetype": "text/x-r-source",
   "name": "R",
   "pygments_lexer": "r",
   "version": "3.3.1"
  }
 },
 "nbformat": 4,
 "nbformat_minor": 1
}
